{
 "cells": [
  {
   "cell_type": "code",
   "execution_count": 1,
   "metadata": {},
   "outputs": [],
   "source": [
    "import pandas as pd\n",
    "import numpy as np\n",
    "import networkx as nx\n",
    "import operator as op\n",
    "import itertools\n",
    "import matplotlib.pyplot as plt\n",
    "import numpy.linalg\n",
    "import cmath\n",
    "import multiprocessing\n",
    "import itertools\n",
    "import scipy.optimize as optimize"
   ]
  },
  {
   "cell_type": "code",
   "execution_count": 2,
   "metadata": {},
   "outputs": [
    {
     "data": {
      "text/html": [
       "<div>\n",
       "<style scoped>\n",
       "    .dataframe tbody tr th:only-of-type {\n",
       "        vertical-align: middle;\n",
       "    }\n",
       "\n",
       "    .dataframe tbody tr th {\n",
       "        vertical-align: top;\n",
       "    }\n",
       "\n",
       "    .dataframe thead th {\n",
       "        text-align: right;\n",
       "    }\n",
       "</style>\n",
       "<table border=\"1\" class=\"dataframe\">\n",
       "  <thead>\n",
       "    <tr style=\"text-align: right;\">\n",
       "      <th></th>\n",
       "      <th>source_id</th>\n",
       "      <th>target_id</th>\n",
       "      <th>timestamp</th>\n",
       "    </tr>\n",
       "  </thead>\n",
       "  <tbody>\n",
       "    <tr>\n",
       "      <td>0</td>\n",
       "      <td>9</td>\n",
       "      <td>8</td>\n",
       "      <td>1217567877</td>\n",
       "    </tr>\n",
       "    <tr>\n",
       "      <td>1</td>\n",
       "      <td>1</td>\n",
       "      <td>1</td>\n",
       "      <td>1217573801</td>\n",
       "    </tr>\n",
       "    <tr>\n",
       "      <td>2</td>\n",
       "      <td>13</td>\n",
       "      <td>1</td>\n",
       "      <td>1217606247</td>\n",
       "    </tr>\n",
       "    <tr>\n",
       "      <td>3</td>\n",
       "      <td>17</td>\n",
       "      <td>1</td>\n",
       "      <td>1217617639</td>\n",
       "    </tr>\n",
       "    <tr>\n",
       "      <td>4</td>\n",
       "      <td>48</td>\n",
       "      <td>2</td>\n",
       "      <td>1217618182</td>\n",
       "    </tr>\n",
       "  </tbody>\n",
       "</table>\n",
       "</div>"
      ],
      "text/plain": [
       "   source_id  target_id   timestamp\n",
       "0          9          8  1217567877\n",
       "1          1          1  1217573801\n",
       "2         13          1  1217606247\n",
       "3         17          1  1217617639\n",
       "4         48          2  1217618182"
      ]
     },
     "execution_count": 2,
     "metadata": {},
     "output_type": "execute_result"
    }
   ],
   "source": [
    "# Δεδομένα\n",
    "df = pd.read_csv('sx-stackoverflow.txt', sep=\"\\s+\", header = None)\n",
    "\n",
    "# Ονομάσια στις στήλες\n",
    "df.columns = [\"source_id\", \"target_id\", \"timestamp\"]\n",
    "df.head()"
   ]
  },
  {
   "cell_type": "code",
   "execution_count": 123,
   "metadata": {},
   "outputs": [
    {
     "name": "stdout",
     "output_type": "stream",
     "text": [
      "     source_id  target_id   timestamp\n",
      "0            9          8  1217567877\n",
      "1            1          1  1217573801\n",
      "2           13          1  1217606247\n",
      "3           17          1  1217617639\n",
      "4           48          2  1217618182\n",
      "..         ...        ...         ...\n",
      "295        122        257  1217861331\n",
      "296          1         67  1217862281\n",
      "297        214        214  1217862896\n",
      "298        116        236  1217863267\n",
      "299    2090742        257  1217863615\n",
      "\n",
      "[300 rows x 3 columns]\n"
     ]
    }
   ],
   "source": [
    "# Create a small dataset of 200 rows first 100 and last 100\n",
    "# dataset = pd.concat([df.iloc[:50], df.iloc[-50:]]) \n",
    "dataset=df.iloc[0:300]\n",
    "print(dataset)"
   ]
  },
  {
   "cell_type": "code",
   "execution_count": 4,
   "metadata": {},
   "outputs": [
    {
     "name": "stdout",
     "output_type": "stream",
     "text": [
      "Enter Number Of Intervals: 4\n",
      "Minimum Timestamp =  1217567877\n",
      "Maximum Timestamp =  1217863615\n",
      "DT =  295738\n",
      "χρονική διάρκεια:  73934.5\n"
     ]
    }
   ],
   "source": [
    "# Υπολογισμός των χρονικών στιγμών t_min, t_max, ΔΤ, δτ\n",
    "N = int(input('Enter Number Of Intervals: ')) # User Input\n",
    "\n",
    "t_min = dataset.timestamp.min()\n",
    "t_max = dataset.timestamp.max()\n",
    "\n",
    "DT = t_max - t_min\n",
    "dt = DT / N\n",
    "\n",
    "print('Minimum Timestamp = ', t_min)\n",
    "print('Maximum Timestamp = ', t_max)\n",
    "print('DT = ', DT)\n",
    "print('χρονική διάρκεια: ', dt)"
   ]
  },
  {
   "cell_type": "code",
   "execution_count": 97,
   "metadata": {},
   "outputs": [],
   "source": [
    "# Διαμέριση του συνολικού χρονικού διαστήματος\n",
    "def create_intervals(dataset,N):\n",
    "    \n",
    "    intervals = []\n",
    "    for j in range(0,N):\n",
    "        print(j)\n",
    "        #Start of time interval\n",
    "        tj = t_min + j * dt\n",
    "        \n",
    "        #End of time interval\n",
    "        tj1 = t_min + (j+1) * dt\n",
    "\n",
    "        intervals.append([int(tj),int(tj1)])\n",
    "\n",
    "    return(intervals)"
   ]
  },
  {
   "cell_type": "code",
   "execution_count": 98,
   "metadata": {},
   "outputs": [
    {
     "name": "stdout",
     "output_type": "stream",
     "text": [
      "0\n",
      "1\n",
      "2\n",
      "3\n",
      "Time Intervals:  [[1217567877, 1217641811], [1217641811, 1217715746], [1217715746, 1217789680], [1217789680, 1217863615]]\n"
     ]
    }
   ],
   "source": [
    "time_intervals = create_intervals(dataset,N)\n",
    "print('Time Intervals: ', time_intervals)"
   ]
  },
  {
   "cell_type": "code",
   "execution_count": 99,
   "metadata": {},
   "outputs": [
    {
     "name": "stdout",
     "output_type": "stream",
     "text": [
      "Nodes:  134\n",
      "Edges:  272\n"
     ]
    },
    {
     "data": {
      "image/png": "[encoded data removed]",
      "text/plain": [
       "<Figure size 432x288 with 1 Axes>"
      ]
     },
     "metadata": {},
     "output_type": "display_data"
    }
   ],
   "source": [
    "# Returns a graph from Pandas DataFrame containing an edge list.\n",
    "G = nx.from_pandas_edgelist(dataset, 'source_id', 'target_id', 'timestamp')\n",
    "print('Nodes: ',G.number_of_nodes())\n",
    "print('Edges: ',G.number_of_edges())\n",
    "E = G.edges()\n",
    "nx.draw(G)"
   ]
  },
  {
   "cell_type": "code",
   "execution_count": 133,
   "metadata": {},
   "outputs": [],
   "source": [
    "def centrality_plots(G):\n",
    "    \n",
    "    # Compute the degree centrality: deg_cent\n",
    "    deg_cent = nx.degree_centrality(G)\n",
    "    # Compute the in degree centrality: in_deg_cent\n",
    "#     in_deg_cent = nx.in_degree_centrality(G)\n",
    "    # Compute the Out-Degree Centrality: out_deg_cent\n",
    "#     out_deg_cent = nx.out_degree_centrality(G)\n",
    "    # Compute the closeness Centrality: clo_cent\n",
    "    clo_cent = nx.closeness_centrality(G)\n",
    "    # Compute the Betweenness Centrality: bet_cent\n",
    "    bet_cent = nx.betweenness_centrality(G)\n",
    "    # Compute the Eigenvector Centrality: eig_cent\n",
    "#     eig_cent = nx.eigenvector_centrality(G)\n",
    "    # Compute the Katz Centrality: katz_cent\n",
    "    L = nx.normalized_laplacian_matrix(G)\n",
    "    e = numpy.linalg.eigvals(L.A)\n",
    "    katz_cent = nx.katz_centrality_numpy(G, max(e).real)\n",
    "    \n",
    "    # degrees = [len(list(G.neighbors(n))) for n in G.nodes()]\n",
    "\n",
    "    # Plots \n",
    "    fig, axs = plt.subplots(3, 2, figsize=(15,15))\n",
    "\n",
    "    # Plot a histogram of the degree centrality distribution of the graph.\n",
    "    deg_cent_values = np.asarray(list(deg_cent.values())) \n",
    "    axs[0][0].set_ylabel('Relative Frequency')\n",
    "    axs[0][0].set_title('degree centrality')\n",
    "    axs[0][0].hist(deg_cent_values, weights = np.zeros_like(deg_cent_values) + 1. / deg_cent_values.size)\n",
    "    \n",
    "    # Plot a histogram of the closeness Centrality distribution of the graph\n",
    "    clo_cent_values = np.asarray(list(clo_cent.values())) \n",
    "    axs[0][1].set_title('Closeness Centrality')\n",
    "    axs[0][1].hist(clo_cent_values, weights = np.zeros_like(clo_cent_values) + 1. / clo_cent_values.size)\n",
    "\n",
    "    # Plot a histogram of the Betweenness Centrality distribution of the graph\n",
    "    bet_cent_values = np.asarray(list(bet_cent.values())) \n",
    "    axs[1][0].set_title('Betweenness Centrality')\n",
    "    axs[1][0].hist(bet_cent_values, weights = np.zeros_like(bet_cent_values) + 1. / clo_cent_values.size)\n",
    "\n",
    "    # Plot a histogram of the Eigenvector Centrality distribution of the graph\n",
    "#     eig_cent_value = np.asarray(list(eig_cent.values())) \n",
    "#     axs[1][1].set_title('Eigenvector Centrality')\n",
    "#     axs[1][1].hist(eig_cent_value, weights = np.zeros_like(eig_cent_value) + 1. / clo_cent_values.size)\n",
    "\n",
    "    # Plot a histogram of the Katz Centrality distribution of the graph\n",
    "    katz_cent_value = np.asarray(list(katz_cent.values())) \n",
    "    axs[2][0].set_title('Katz Centrality')\n",
    "    axs[2][0].set_xlabel('Normalized Centrality Measure Values')\n",
    "    axs[2][0].hist(katz_cent_value, weights = np.zeros_like(katz_cent_value) + 1. / katz_cent_value.size)\n",
    "\n",
    "\n",
    "\n",
    "    plt.show()"
   ]
  },
  {
   "cell_type": "code",
   "execution_count": 134,
   "metadata": {
    "scrolled": true
   },
   "outputs": [
    {
     "data": {
      "image/png": "[encoded data removed]",
      "text/plain": [
       "<Figure size 1080x1080 with 6 Axes>"
      ]
     },
     "metadata": {
      "needs_background": "light"
     },
     "output_type": "display_data"
    }
   ],
   "source": [
    "centrality_plots(G)"
   ]
  },
  {
   "cell_type": "code",
   "execution_count": 135,
   "metadata": {},
   "outputs": [],
   "source": [
    "def set_g(T,dataset):\n",
    "    G = nx.from_pandas_edgelist(dataset, 'source_id','target_id','timestamp')\n",
    "    GT = nx.Graph()\n",
    "    for n,item in G.adj.items():\n",
    "        for nt, peritem in item.items():\n",
    "            d = peritem['timestamp']\n",
    "            if (d >= T[0]) and (d <= T[1]):\n",
    "                GT.add_edge(n,nt, timestamp= d)\n",
    "    return GT"
   ]
  },
  {
   "cell_type": "code",
   "execution_count": 136,
   "metadata": {},
   "outputs": [
    {
     "name": "stdout",
     "output_type": "stream",
     "text": [
      "4\n",
      "G on T 0\n",
      "G on T 1\n",
      "G on T 2\n",
      "G on T 3\n"
     ]
    }
   ],
   "source": [
    "# t0 = t_min\n",
    "# t1 = t0+dt\n",
    "# T = nx.DiGraph()\n",
    "\n",
    "# while N > 0:\n",
    "#     for e in E:\n",
    "#         a=e[0]; b=e[1]\n",
    "#         ts=int(G[a][b]['timestamp'])\n",
    "#         if (ts >= t0) and (ts < t1):\n",
    "#             T.add_edge(a,b)\n",
    "#     N -= 1\n",
    "# nx.draw(T) \n",
    "\n",
    "Ntimes = N\n",
    "print(Ntimes)\n",
    "x=0\n",
    "Glist = []\n",
    "while x < Ntimes:\n",
    "    print(\"G on T\",x)\n",
    "    T = time_intervals[x]\n",
    "    GN = set_g(T,dataset)\n",
    "    Glist.append(GN)\n",
    "    x+=1"
   ]
  },
  {
   "cell_type": "code",
   "execution_count": 138,
   "metadata": {},
   "outputs": [
    {
     "data": {
      "image/png": "[encoded data removed]",
      "text/plain": [
       "<Figure size 1080x1080 with 6 Axes>"
      ]
     },
     "metadata": {
      "needs_background": "light"
     },
     "output_type": "display_data"
    }
   ],
   "source": [
    "while x < Ntimes:\n",
    "    print(x)\n",
    "#     centrality_plots(Glist[x])\n",
    "    x+=1\n",
    "    \n",
    "centrality_plots(Glist[1])"
   ]
  },
  {
   "cell_type": "code",
   "execution_count": 104,
   "metadata": {},
   "outputs": [],
   "source": [
    "def v_inter(G1,G2):\n",
    "    \n",
    "    S1=set(G1.nodes())\n",
    "    S2=set(G2.nodes())\n",
    "    \n",
    "    return set.intersection(S1,S2) #Return the common nodes"
   ]
  },
  {
   "cell_type": "code",
   "execution_count": 105,
   "metadata": {},
   "outputs": [],
   "source": [
    "def e_inter(G,Vlist):\n",
    "    \n",
    "    Snodes=set(G.nodes())\n",
    "    \n",
    "    GT = nx.Graph()\n",
    "    for n,item in G.adj.items():\n",
    "        for nt, peritem in item.items():\n",
    "#             d = peritem['timestamp']\n",
    "            if ((n in Vlist) and (nt in Vlist)):\n",
    "                GT.add_edge(n,nt)\n",
    "    \n",
    "    return GT.edges() #Return edges"
   ]
  },
  {
   "cell_type": "code",
   "execution_count": 109,
   "metadata": {
    "scrolled": false
   },
   "outputs": [],
   "source": [
    "#Q5\n",
    "NTimes5 = N\n",
    "Vlist = []\n",
    "x = 0\n",
    "Eprevlist = []\n",
    "Enextlist = []\n",
    "while x < NTimes5-1:\n",
    "    V = v_inter(Glist[x],Glist[x+1])\n",
    "    Vlist.append(sorted(V))\n",
    "#     print(Vlist[x])\n",
    "    Eprevlist.append(e_inter(Glist[x],Vlist[x]))\n",
    "    Enextlist.append(e_inter(Glist[x+1],Vlist[x]))\n",
    "#     print(x)\n",
    "#     print(Vlist[x])\n",
    "#     print(Glist[x].edges())\n",
    "#     print(Eprevlist[x])\n",
    "#     print(Glist[x+1].edges())\n",
    "#     print(Enextlist[x])\n",
    "    x+=1\n",
    "    \n",
    "    \n"
   ]
  },
  {
   "cell_type": "code",
   "execution_count": 117,
   "metadata": {},
   "outputs": [],
   "source": [
    "#Q6\n",
    "def graph_distance(Vlist,Gtemp):\n",
    "        \n",
    "        #Graph distance calculation\n",
    "        graph_matrix = pd.DataFrame(nx.floyd_warshall_numpy(Gtemp), index=Vlist, columns=Vlist)\n",
    "        pd.options.display.float_format = '{:,.0f}'.format\n",
    "    \n",
    "        return(graph_matrix)\n",
    "def common_neighbors(Vlist,Gtemp):\n",
    "    \n",
    "    #Calculate all vertices permutations\n",
    "    permutations = list(itertools.permutations(Vlist, 2))\n",
    "\n",
    "    df=pd.DataFrame(0,index=Vlist, columns=Vlist)\n",
    "\n",
    "    for u,v in permutations:\n",
    "\n",
    "        df.loc[u, v]= len(sorted(nx.common_neighbors(Gtemp,u,v)))\n",
    "    \n",
    "    return(df)\n",
    "\n",
    "def jaccard_distance(Vlist,Gtemp):\n",
    "    \n",
    "    jacc = list(nx.jaccard_coefficient(Gtemp))\n",
    "\n",
    "    df=pd.DataFrame(0,index=Vlist, columns=Vlist)\n",
    "\n",
    "    for i in range(0,len(jacc)):\n",
    "        df.loc[jacc[i][0],jacc[i][1]] = jacc[i][2]\n",
    "        df.loc[jacc[i][1],jacc[i][0]] = jacc[i][2]\n",
    "        \n",
    "    return(df) \n",
    "\n",
    "def adamic_distance(Vlist,Gtemp):\n",
    "    \n",
    "   \n",
    "    adam = list(nx.adamic_adar_index(Gtemp))\n",
    "\n",
    "    df=pd.DataFrame(0,index=Vlist, columns=Vlist)\n",
    "\n",
    "    for i in range(0,len(adam)):\n",
    "        df.loc[adam[i][0],adam[i][1]] = adam[i][2]\n",
    "        df.loc[adam[i][1],adam[i][0]] = adam[i][2]\n",
    "        \n",
    "    return(df)\n",
    "\n",
    "def preferencial_attachment(Vlist,Gtemp):\n",
    "    \n",
    "    pref = list(nx.preferential_attachment(Gtemp))\n",
    "\n",
    "    df=pd.DataFrame(0,index=Vlist, columns=Vlist)\n",
    "\n",
    "    for i in range(0,len(pref)):\n",
    "            df.loc[pref[i][0],pref[i][1]] = pref[i][2]\n",
    "            df.loc[pref[i][1],pref[i][0]] = pref[i][2]\n",
    "            \n",
    "    return(df)\n",
    "\n"
   ]
  },
  {
   "cell_type": "code",
   "execution_count": 122,
   "metadata": {},
   "outputs": [
    {
     "name": "stdout",
     "output_type": "stream",
     "text": [
      "         1        2        9        17       25       32       34       \\\n",
      "1              0        3        3        1        5        2        6   \n",
      "2              3        0        3        2        5        3        6   \n",
      "9              3        3        0        2        4        3        5   \n",
      "17             1        2        2        0        4        1        5   \n",
      "25             5        5        4        4        0        5        3   \n",
      "32             2        3        3        1        5        0        6   \n",
      "34             6        6        5        5        3        6        0   \n",
      "35             4        3        3        3        3        4        4   \n",
      "39             5        5        4        4        2        5        1   \n",
      "40             4        5        4        3        3        4        2   \n",
      "48             2        1        2        1        4        2        5   \n",
      "49             2        3        3        1        5        2        6   \n",
      "50             4        5        4        3        2        4        3   \n",
      "55             5        6        5        4        4        5        4   \n",
      "58             3        3        2        2        2        3        3   \n",
      "59             3        4        3        2        2        3        3   \n",
      "60             3        1        2        2        4        3        5   \n",
      "61             4        4        3        3        1        4        2   \n",
      "71             3        2        3        2        4        3        5   \n",
      "72             2        2        1        1        3        2        4   \n",
      "78             4        5        4        3        3        4        4   \n",
      "80             3        4        4        2        4        3        5   \n",
      "83             2        3        3        1        3        2        4   \n",
      "86             4        4        3        3        3        4        4   \n",
      "146637         4        5        4        3        3        4        3   \n",
      "2089740        5        5        4        4        2        5        3   \n",
      "\n",
      "         35       39       40       ...  60       61       71       72       \\\n",
      "1              4        5        4  ...        3        4        3        2   \n",
      "2              3        5        5  ...        1        4        2        2   \n",
      "9              3        4        4  ...        2        3        3        1   \n",
      "17             3        4        3  ...        2        3        2        1   \n",
      "25             3        2        3  ...        4        1        4        3   \n",
      "32             4        5        4  ...        3        4        3        2   \n",
      "34             4        1        2  ...        5        2        5        4   \n",
      "35             0        3        3  ...        2        2        1        2   \n",
      "39             3        0        1  ...        4        1        4        3   \n",
      "40             3        1        0  ...        4        2        4        3   \n",
      "48             2        4        4  ...        2        3        1        1   \n",
      "49             4        5        4  ...        3        4        3        2   \n",
      "50             3        2        2  ...        4        1        4        3   \n",
      "55             4        3        2  ...        5        3        5        4   \n",
      "58             1        2        2  ...        2        1        2        1   \n",
      "59             2        2        1  ...        3        1        3        2   \n",
      "60             2        4        4  ...        0        3        1        1   \n",
      "61             2        1        2  ...        3        0        3        2   \n",
      "71             1        4        4  ...        1        3        0        2   \n",
      "72             2        3        3  ...        1        2        2        0   \n",
      "78             3        3        2  ...        4        2        4        3   \n",
      "80             4        4        3  ...        4        3        4        3   \n",
      "83             3        3        2  ...        3        2        3        2   \n",
      "86             2        3        3  ...        3        2        3        2   \n",
      "146637         3        2        1  ...        4        2        4        3   \n",
      "2089740        3        2        3  ...        4        1        4        3   \n",
      "\n",
      "         78       80       83       86       146637   2089740  \n",
      "1              4        3        2        4        4        5  \n",
      "2              5        4        3        4        5        5  \n",
      "9              4        4        3        3        4        4  \n",
      "17             3        2        1        3        3        4  \n",
      "25             3        4        3        3        3        2  \n",
      "32             4        3        2        4        4        5  \n",
      "34             4        5        4        4        3        3  \n",
      "35             3        4        3        2        3        3  \n",
      "39             3        4        3        3        2        2  \n",
      "40             2        3        2        3        1        3  \n",
      "48             4        3        2        3        4        4  \n",
      "49             4        3        2        4        4        5  \n",
      "50             2        3        2        3        2        1  \n",
      "55             1        4        3        2        1        4  \n",
      "58             2        3        2        1        2        2  \n",
      "59             1        2        1        2        1        2  \n",
      "60             4        4        3        3        4        4  \n",
      "61             2        3        2        2        2        1  \n",
      "71             4        4        3        3        4        4  \n",
      "72             3        3        2        2        3        3  \n",
      "78             0        3        2        1        2        3  \n",
      "80             3        0        1        4        3        4  \n",
      "83             2        1        0        3        2        3  \n",
      "86             1        4        3        0        3        3  \n",
      "146637         2        3        2        3        0        3  \n",
      "2089740        3        4        3        3        3        0  \n",
      "\n",
      "[26 rows x 26 columns]\n"
     ]
    }
   ],
   "source": [
    "NTimes6 = N\n",
    "x=0\n",
    "GraphDistanceList =[]\n",
    "commonNeighborsList = []\n",
    "jacardDistanceList = []\n",
    "adamicDistanceList = []\n",
    "preferencialAttachmentList = []\n",
    "\n",
    "while x < NTimes6-1:\n",
    "    Gtemp = nx.Graph()\n",
    "    Gtemp.add_nodes_from(Vlist[x])\n",
    "    Gtemp.add_edges_from(Eprevlist[x])\n",
    "    Gtemp.add_edges_from(Enextlist[x])\n",
    "#     length = nx.all_pairs_shortest_path_length(G)\n",
    "#     GraphDistanceList.append(list(length)) #Ερωτηση i\n",
    "#     print(GraphDistanceList[x])\n",
    "\n",
    "    GraphDistanceList.append(graph_distance(Vlist[x],Gtemp))\n",
    "\n",
    "    commonNeighborsList.append(common_neighbors(Vlist[x],Gtemp))#Ερωτηση ii\n",
    "#     print(commonNeighborsList[x])\n",
    "\n",
    "    jacardDistanceList.append(jaccard_distance(Vlist[x],Gtemp))#Ερωτηση iii\n",
    "#     print(jacardDistanceList[x])\n",
    "\n",
    "    adamicDistanceList.append(adamic_distance(Vlist[x],Gtemp))#Ερωτηση iv\n",
    "#     print(adamicDistanceList[x])\n",
    "    preferencialAttachmentList.append(preferencial_attachment(Vlist[x],Gtemp))#Ερωτηση v\n",
    "#     print(preferencialAttachmentList[x])\n",
    "    x+=1\n",
    "    \n",
    "print(GraphDistanceList[0])\n",
    "    \n",
    "    "
   ]
  },
  {
   "cell_type": "code",
   "execution_count": null,
   "metadata": {},
   "outputs": [],
   "source": []
  },
  {
   "cell_type": "code",
   "execution_count": null,
   "metadata": {},
   "outputs": [],
   "source": []
  },
  {
   "cell_type": "code",
   "execution_count": null,
   "metadata": {},
   "outputs": [],
   "source": []
  }
 ],
 "metadata": {
  "kernelspec": {
   "display_name": "Python 3",
   "language": "python",
   "name": "python3"
  },
  "language_info": {
   "codemirror_mode": {
    "name": "ipython",
    "version": 3
   },
   "file_extension": ".py",
   "mimetype": "text/x-python",
   "name": "python",
   "nbconvert_exporter": "python",
   "pygments_lexer": "ipython3",
   "version": "3.7.5"
  }
 },
 "nbformat": 4,
 "nbformat_minor": 2
}
