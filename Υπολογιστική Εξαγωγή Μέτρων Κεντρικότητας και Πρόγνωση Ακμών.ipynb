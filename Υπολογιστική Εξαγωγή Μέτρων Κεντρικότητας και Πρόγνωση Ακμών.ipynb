{
 "cells": [
  {
   "cell_type": "code",
   "execution_count": 1,
   "metadata": {},
   "outputs": [],
   "source": [
    "import pandas as pd\n",
    "import numpy as np\n",
    "import networkx as nx\n",
    "import operator as op\n",
    "import itertools\n",
    "import matplotlib.pyplot as plt\n",
    "import numpy.linalg\n",
    "import cmath\n",
    "import multiprocessing\n",
    "import itertools\n",
    "import scipy.optimize as optimize"
   ]
  },
  {
   "cell_type": "code",
   "execution_count": 2,
   "metadata": {},
   "outputs": [
    {
     "data": {
      "text/html": [
       "<div>\n",
       "<style scoped>\n",
       "    .dataframe tbody tr th:only-of-type {\n",
       "        vertical-align: middle;\n",
       "    }\n",
       "\n",
       "    .dataframe tbody tr th {\n",
       "        vertical-align: top;\n",
       "    }\n",
       "\n",
       "    .dataframe thead th {\n",
       "        text-align: right;\n",
       "    }\n",
       "</style>\n",
       "<table border=\"1\" class=\"dataframe\">\n",
       "  <thead>\n",
       "    <tr style=\"text-align: right;\">\n",
       "      <th></th>\n",
       "      <th>source_id</th>\n",
       "      <th>target_id</th>\n",
       "      <th>timestamp</th>\n",
       "    </tr>\n",
       "  </thead>\n",
       "  <tbody>\n",
       "    <tr>\n",
       "      <td>0</td>\n",
       "      <td>9</td>\n",
       "      <td>8</td>\n",
       "      <td>1217567877</td>\n",
       "    </tr>\n",
       "    <tr>\n",
       "      <td>1</td>\n",
       "      <td>1</td>\n",
       "      <td>1</td>\n",
       "      <td>1217573801</td>\n",
       "    </tr>\n",
       "    <tr>\n",
       "      <td>2</td>\n",
       "      <td>13</td>\n",
       "      <td>1</td>\n",
       "      <td>1217606247</td>\n",
       "    </tr>\n",
       "    <tr>\n",
       "      <td>3</td>\n",
       "      <td>17</td>\n",
       "      <td>1</td>\n",
       "      <td>1217617639</td>\n",
       "    </tr>\n",
       "    <tr>\n",
       "      <td>4</td>\n",
       "      <td>48</td>\n",
       "      <td>2</td>\n",
       "      <td>1217618182</td>\n",
       "    </tr>\n",
       "  </tbody>\n",
       "</table>\n",
       "</div>"
      ],
      "text/plain": [
       "   source_id  target_id   timestamp\n",
       "0          9          8  1217567877\n",
       "1          1          1  1217573801\n",
       "2         13          1  1217606247\n",
       "3         17          1  1217617639\n",
       "4         48          2  1217618182"
      ]
     },
     "execution_count": 2,
     "metadata": {},
     "output_type": "execute_result"
    }
   ],
   "source": [
    "# Δεδομένα\n",
    "df = pd.read_csv('sx-stackoverflow.txt', sep=\"\\s+\", header = None)\n",
    "# Ονομάσια στις στήλες\n",
    "df.columns = [\"source_id\", \"target_id\", \"timestamp\"]\n",
    "df.head(5) # First 5 rows"
   ]
  },
  {
   "cell_type": "code",
   "execution_count": 3,
   "metadata": {},
   "outputs": [],
   "source": [
    "# Create a small dataset of 200 rows first 100 and last 100\n",
    "dataset = pd.concat([df.iloc[:100], df.iloc[-100:]]) "
   ]
  },
  {
   "cell_type": "code",
   "execution_count": 4,
   "metadata": {},
   "outputs": [
    {
     "name": "stdout",
     "output_type": "stream",
     "text": [
      "Enter Number Of Intervals: 5\n",
      "Minimum Timestamp =  1217567877\n",
      "Maximum Timestamp =  1457273428\n",
      "DT =  239705551\n",
      "χρονική διάρκεια:  47941110.2\n"
     ]
    }
   ],
   "source": [
    "# Υπολογισμός των χρονικών στιγμών t_min, t_max, ΔΤ, δτ\n",
    "N = int(input('Enter Number Of Intervals: ')) # User Input\n",
    "\n",
    "t_min = dataset.timestamp.min()\n",
    "t_max = dataset.timestamp.max()\n",
    "\n",
    "DT = t_max - t_min\n",
    "dt = DT / N\n",
    "\n",
    "print('Minimum Timestamp = ', t_min)\n",
    "print('Maximum Timestamp = ', t_max)\n",
    "print('DT = ', DT)\n",
    "print('χρονική διάρκεια: ', dt)"
   ]
  },
  {
   "cell_type": "code",
   "execution_count": 5,
   "metadata": {},
   "outputs": [],
   "source": [
    "# Διαμέριση του συνολικού χρονικού διαστήματος\n",
    "def create_intervals(dataset,N):\n",
    "    \n",
    "    intervals = []\n",
    "    for j in range(0,N):\n",
    "        \n",
    "        #Start of time interval\n",
    "        tj = t_min + j * dt\n",
    "        \n",
    "        #End of time interval\n",
    "        tj1 = t_min + (j+1) * dt\n",
    "\n",
    "        intervals.append([int(tj),int(tj1)])\n",
    "\n",
    "    return(intervals)"
   ]
  },
  {
   "cell_type": "code",
   "execution_count": 25,
   "metadata": {},
   "outputs": [
    {
     "name": "stdout",
     "output_type": "stream",
     "text": [
      "Time Intervals:  [[1217567877, 1241538432], [1241538432, 1265508987], [1265508987, 1289479542], [1289479542, 1313450097], [1313450097, 1337420652], [1337420652, 1361391207], [1361391207, 1385361762], [1385361762, 1409332317], [1409332317, 1433302872], [1433302872, 1457273428]]\n"
     ]
    }
   ],
   "source": [
    "time_intervals = create_intervals(dataset,N)\n",
    "print('Time Intervals: ', time_intervals)"
   ]
  },
  {
   "cell_type": "code",
   "execution_count": 6,
   "metadata": {},
   "outputs": [
    {
     "name": "stdout",
     "output_type": "stream",
     "text": [
      "Nodes:  181\n",
      "Edges:  175\n"
     ]
    },
    {
     "data": {
      "image/png": "[encoded data removed]",
      "text/plain": [
       "<Figure size 432x288 with 1 Axes>"
      ]
     },
     "metadata": {},
     "output_type": "display_data"
    }
   ],
   "source": [
    "# Returns a graph from Pandas DataFrame containing an edge list.\n",
    "G = nx.from_pandas_edgelist(dataset, 'source_id', 'target_id', 'timestamp')\n",
    "print('Nodes: ',G.number_of_nodes())\n",
    "print('Edges: ',G.number_of_edges())\n",
    "E = G.edges()\n",
    "nx.draw(G)"
   ]
  },
  {
   "cell_type": "code",
   "execution_count": 7,
   "metadata": {},
   "outputs": [],
   "source": [
    "def centrality_plots(G):\n",
    "    \n",
    "    # Compute the degree centrality: deg_cent\n",
    "    deg_cent = nx.degree_centrality(G)\n",
    "    # Compute the in degree centrality: in_deg_cent\n",
    "#     in_deg_cent = nx.in_degree_centrality(G)\n",
    "    # Compute the Out-Degree Centrality: out_deg_cent\n",
    "#     out_deg_cent = nx.out_degree_centrality(G)\n",
    "    # Compute the closeness Centrality: clo_cent\n",
    "    clo_cent = nx.closeness_centrality(G)\n",
    "    # Compute the Betweenness Centrality: bet_cent\n",
    "    bet_cent = nx.betweenness_centrality(G)\n",
    "    # Compute the Eigenvector Centrality: eig_cent\n",
    "    eig_cent = nx.eigenvector_centrality(G)\n",
    "    # Compute the Katz Centrality: katz_cent\n",
    "    L = nx.normalized_laplacian_matrix(G)\n",
    "    e = numpy.linalg.eigvals(L.A)\n",
    "    katz_cent = nx.katz_centrality_numpy(G, max(e).real)\n",
    "    \n",
    "    # degrees = [len(list(G.neighbors(n))) for n in G.nodes()]\n",
    "\n",
    "    # Plots \n",
    "    fig, axs = plt.subplots(3, 2, figsize=(15,15))\n",
    "\n",
    "    # Plot a histogram of the degree centrality distribution of the graph.\n",
    "    deg_cent_values = np.asarray(list(deg_cent.values())) \n",
    "    axs[0][0].set_ylabel('Relative Frequency')\n",
    "    axs[0][0].set_title('degree centrality')\n",
    "    axs[0][0].hist(deg_cent_values, weights = np.zeros_like(deg_cent_values) + 1. / deg_cent_values.size)\n",
    "    \n",
    "    # Plot a histogram of the closeness Centrality distribution of the graph\n",
    "    clo_cent_values = np.asarray(list(clo_cent.values())) \n",
    "    axs[0][1].set_title('Closeness Centrality')\n",
    "    axs[0][1].hist(clo_cent_values, weights = np.zeros_like(clo_cent_values) + 1. / clo_cent_values.size)\n",
    "\n",
    "    # Plot a histogram of the Betweenness Centrality distribution of the graph\n",
    "    bet_cent_values = np.asarray(list(bet_cent.values())) \n",
    "    axs[1][0].set_title('Betweenness Centrality')\n",
    "    axs[1][0].hist(bet_cent_values, weights = np.zeros_like(bet_cent_values) + 1. / clo_cent_values.size)\n",
    "\n",
    "    # Plot a histogram of the Eigenvector Centrality distribution of the graph\n",
    "    eig_cent_value = np.asarray(list(eig_cent.values())) \n",
    "    axs[1][1].set_title('Eigenvector Centrality')\n",
    "    axs[1][1].hist(eig_cent_value, weights = np.zeros_like(eig_cent_value) + 1. / clo_cent_values.size)\n",
    "\n",
    "    # Plot a histogram of the Katz Centrality distribution of the graph\n",
    "    katz_cent_value = np.asarray(list(katz_cent.values())) \n",
    "    axs[2][0].set_title('Katz Centrality')\n",
    "    axs[2][0].set_xlabel('Normalized Centrality Measure Values')\n",
    "    axs[2][0].hist(katz_cent_value, weights = np.zeros_like(katz_cent_value) + 1. / katz_cent_value.size)\n",
    "\n",
    "\n",
    "\n",
    "    plt.show()"
   ]
  },
  {
   "cell_type": "code",
   "execution_count": 8,
   "metadata": {},
   "outputs": [
    {
     "data": {
      "image/png": "[encoded data removed]",
      "text/plain": [
       "<Figure size 1080x1080 with 6 Axes>"
      ]
     },
     "metadata": {
      "needs_background": "light"
     },
     "output_type": "display_data"
    }
   ],
   "source": [
    "centrality_plots(G)"
   ]
  },
  {
   "cell_type": "code",
   "execution_count": null,
   "metadata": {},
   "outputs": [],
   "source": [
    "t0 = t_min\n",
    "t1 = t0+dt\n",
    "SetOfNodes=[]\n",
    "SetOfEdges=[]\n",
    "while N > 0:\n",
    "    T = nx.DiGraph()\n",
    "    for e in E:\n",
    "        a=e[0]; b=e[1]\n",
    "        ts=int(G[a][b]['timestamp'])\n",
    "        if (ts >= t0) and (ts < t1):\n",
    "            T.add_edge(a,b)\n",
    "        A=set(T.nodes());\n",
    "        B=set(T.edges());\n",
    "        SetOfNodes.append(A)\n",
    "        # print('set of nodes: ', SetOfNodes)\n",
    "        SetOfEdges.append(B)\n",
    "        \n",
    "        nx.draw(T)\n",
    "        # print(T)\n",
    "            \n",
    "    # T = nx.from_pandas_edgelist(dataset, 'source_id', 'target_id', 'timestamp')\n",
    "    # nx.draw(T)\n",
    "    N -= 1"
   ]
  }
 ],
 "metadata": {
  "kernelspec": {
   "display_name": "Python 3",
   "language": "python",
   "name": "python3"
  },
  "language_info": {
   "codemirror_mode": {
    "name": "ipython",
    "version": 3
   },
   "file_extension": ".py",
   "mimetype": "text/x-python",
   "name": "python",
   "nbconvert_exporter": "python",
   "pygments_lexer": "ipython3",
   "version": "3.6.9"
  }
 },
 "nbformat": 4,
 "nbformat_minor": 2
}
